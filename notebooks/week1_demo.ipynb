{
 "cells": [
  {
   "cell_type": "code",
   "execution_count": 11,
   "id": "0ada17b3",
   "metadata": {},
   "outputs": [
    {
     "name": "stdout",
     "output_type": "stream",
     "text": [
      "The autoreload extension is already loaded. To reload it, use:\n",
      "  %reload_ext autoreload\n"
     ]
    }
   ],
   "source": [
    "%load_ext autoreload\n",
    "%autoreload 2\n",
    "import sys\n",
    "import os\n",
    "sys.path.append(os.path.abspath(\"..\"))  "
   ]
  },
  {
   "cell_type": "code",
   "execution_count": null,
   "id": "6de5931a",
   "metadata": {},
   "outputs": [],
   "source": [
    "import numpy as np\n",
    "\n",
    "from utils.layers.linear import Linear\n",
    "from tests.test_modules import test_linear_forward, test_relu"
   ]
  },
  {
   "cell_type": "code",
   "execution_count": 4,
   "id": "6a87cae2",
   "metadata": {},
   "outputs": [
    {
     "name": "stdout",
     "output_type": "stream",
     "text": [
      "Output: [[ 5.4528163  -6.93849728]]\n",
      "✅ test_linear_forward passed\n"
     ]
    }
   ],
   "source": [
    "layer = Linear(3, 2, activation=\"relu\")\n",
    "x = np.array([[1.0, 2.0, 3.0]])\n",
    "\n",
    "test_linear_forward(layer=layer, x=x)"
   ]
  },
  {
   "cell_type": "code",
   "execution_count": 5,
   "id": "4fe7230c",
   "metadata": {},
   "outputs": [
    {
     "name": "stdout",
     "output_type": "stream",
     "text": [
      "Output: [[0 0 2]]\n",
      "✅ test_relu passed\n"
     ]
    }
   ],
   "source": [
    "x = np.array([[-1, 0, 2]])\n",
    "test_relu(x=x)"
   ]
  }
 ],
 "metadata": {
  "kernelspec": {
   "display_name": "Python 3",
   "language": "python",
   "name": "python3"
  },
  "language_info": {
   "codemirror_mode": {
    "name": "ipython",
    "version": 3
   },
   "file_extension": ".py",
   "mimetype": "text/x-python",
   "name": "python",
   "nbconvert_exporter": "python",
   "pygments_lexer": "ipython3",
   "version": "3.10.16"
  }
 },
 "nbformat": 4,
 "nbformat_minor": 5
}
