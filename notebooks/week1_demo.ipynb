{
 "cells": [
  {
   "cell_type": "code",
   "execution_count": 98,
   "id": "0ada17b3",
   "metadata": {},
   "outputs": [
    {
     "name": "stdout",
     "output_type": "stream",
     "text": [
      "The autoreload extension is already loaded. To reload it, use:\n",
      "  %reload_ext autoreload\n"
     ]
    }
   ],
   "source": [
    "%load_ext autoreload\n",
    "%autoreload 2\n",
    "import sys\n",
    "import os\n",
    "sys.path.append(os.path.abspath(\"..\"))  "
   ]
  },
  {
   "cell_type": "code",
   "execution_count": 100,
   "id": "6de5931a",
   "metadata": {},
   "outputs": [],
   "source": [
    "import numpy as np\n",
    "\n",
    "from models.MLP.model import MLP\n",
    "from utils.layers.linear import Linear\n",
    "from utils.loss.MSELoss import MSELoss\n",
    "\n",
    "from tests.test_modules import test_linear_forward, test_relu"
   ]
  },
  {
   "cell_type": "code",
   "execution_count": 101,
   "id": "6a87cae2",
   "metadata": {},
   "outputs": [
    {
     "name": "stdout",
     "output_type": "stream",
     "text": [
      "Output: [[2.24926628 1.18054169]]\n",
      "✅ test_linear_forward passed\n"
     ]
    }
   ],
   "source": [
    "layer = Linear(3, 2, activation=\"relu\")\n",
    "x = np.array([[1.0, 2.0, 3.0]])\n",
    "\n",
    "test_linear_forward(layer=layer, x=x)"
   ]
  },
  {
   "cell_type": "code",
   "execution_count": 102,
   "id": "4fe7230c",
   "metadata": {},
   "outputs": [
    {
     "name": "stdout",
     "output_type": "stream",
     "text": [
      "Output: [[0 0 2]]\n",
      "✅ test_relu passed\n"
     ]
    }
   ],
   "source": [
    "x = np.array([[-1, 0, 2]])\n",
    "test_relu(x=x)"
   ]
  },
  {
   "cell_type": "code",
   "execution_count": 103,
   "id": "d650f7e5",
   "metadata": {},
   "outputs": [
    {
     "name": "stdout",
     "output_type": "stream",
     "text": [
      "Prediction at step 0: [[-5.45104867]], Target: [[1.]]\n",
      "Loss 41.616028991077364\n",
      "Prediction at step 1: [[0.12902097]], Target: [[1.]]\n",
      "Loss 0.7586044646464752\n",
      "Prediction at step 2: [[0.14644055]], Target: [[1.]]\n",
      "Loss 0.7285637278464748\n",
      "Prediction at step 3: [[0.16351174]], Target: [[1.]]\n",
      "Loss 0.6997126042237544\n",
      "Prediction at step 4: [[0.18024151]], Target: [[1.]]\n",
      "Loss 0.6720039850964937\n",
      "Prediction at step 5: [[0.19663668]], Target: [[1.]]\n",
      "Loss 0.6453926272866725\n",
      "Prediction at step 6: [[0.21270394]], Target: [[1.]]\n",
      "Loss 0.6198350792461202\n",
      "Prediction at step 7: [[0.22844987]], Target: [[1.]]\n",
      "Loss 0.5952896101079739\n",
      "Prediction at step 8: [[0.24388087]], Target: [[1.]]\n",
      "Loss 0.5717161415476981\n",
      "Prediction at step 9: [[0.25900325]], Target: [[1.]]\n",
      "Loss 0.5490761823424094\n",
      "Prediction at step 10: [[0.27382319]], Target: [[1.]]\n",
      "Loss 0.52733276552165\n",
      "Prediction at step 11: [[0.28834672]], Target: [[1.]]\n",
      "Loss 0.5064503880069925\n",
      "Prediction at step 12: [[0.30257979]], Target: [[1.]]\n",
      "Loss 0.4863949526419157\n",
      "Prediction at step 13: [[0.31652819]], Target: [[1.]]\n",
      "Loss 0.46713371251729574\n",
      "Prediction at step 14: [[0.33019763]], Target: [[1.]]\n",
      "Loss 0.44863521750161095\n",
      "Prediction at step 15: [[0.34359368]], Target: [[1.]]\n",
      "Loss 0.43086926288854704\n",
      "Prediction at step 16: [[0.3567218]], Target: [[1.]]\n",
      "Loss 0.41380684007816076\n",
      "Prediction at step 17: [[0.36958737]], Target: [[1.]]\n",
      "Loss 0.39742008921106553\n",
      "Prediction at step 18: [[0.38219562]], Target: [[1.]]\n",
      "Loss 0.38168225367830727\n",
      "Prediction at step 19: [[0.39455171]], Target: [[1.]]\n",
      "Loss 0.36656763643264634\n"
     ]
    }
   ],
   "source": [
    "# Dummy input and target\n",
    "x = np.array([[1.0, 2.0, 3.0]])\n",
    "target = np.array([[1.0]])\n",
    "\n",
    "# Create a network: input 3 → hidden layers [4, 4] → output 1\n",
    "net = MLP(input_dim=3, hidden_dims=[4, 4], output_dim=1)\n",
    "loss_fn = MSELoss()\n",
    "\n",
    "for i in range(20):\n",
    "    # Forward\n",
    "    pred = net(x)\n",
    "    print(f\"Prediction at step {i}: {pred}, Target: {target}\")\n",
    "    # Forward pass\n",
    "    loss = loss_fn(pred, target)\n",
    "\n",
    "    print(\"Loss\", loss)\n",
    "\n",
    "    # Backward pass\n",
    "    grad_loss = loss_fn.backward()\n",
    "    net.backward(grad_loss, lr=0.01)"
   ]
  },
  {
   "cell_type": "code",
   "execution_count": null,
   "id": "c66f6ca7",
   "metadata": {},
   "outputs": [],
   "source": []
  }
 ],
 "metadata": {
  "kernelspec": {
   "display_name": "Python 3",
   "language": "python",
   "name": "python3"
  },
  "language_info": {
   "codemirror_mode": {
    "name": "ipython",
    "version": 3
   },
   "file_extension": ".py",
   "mimetype": "text/x-python",
   "name": "python",
   "nbconvert_exporter": "python",
   "pygments_lexer": "ipython3",
   "version": "3.10.16"
  }
 },
 "nbformat": 4,
 "nbformat_minor": 5
}
