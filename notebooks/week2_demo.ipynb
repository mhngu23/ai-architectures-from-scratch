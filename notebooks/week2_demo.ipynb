{
 "cells": [
  {
   "cell_type": "code",
   "execution_count": 7,
   "id": "92fbba3e",
   "metadata": {},
   "outputs": [
    {
     "name": "stdout",
     "output_type": "stream",
     "text": [
      "The autoreload extension is already loaded. To reload it, use:\n",
      "  %reload_ext autoreload\n"
     ]
    }
   ],
   "source": [
    "%load_ext autoreload\n",
    "%autoreload 2\n",
    "import sys\n",
    "import os\n",
    "sys.path.append(os.path.abspath(\"..\"))  "
   ]
  },
  {
   "cell_type": "code",
   "execution_count": 8,
   "id": "fb4d771c",
   "metadata": {},
   "outputs": [],
   "source": [
    "import numpy as np\n",
    "\n",
    "from models.MLP.model import MLP\n",
    "from utils.loss.MSELoss import MSELoss\n",
    "from utils.optimizers.SGD import SGD\n",
    "from utils.optimizers.Adam import Adam"
   ]
  },
  {
   "cell_type": "code",
   "execution_count": 10,
   "id": "302b4821",
   "metadata": {},
   "outputs": [
    {
     "name": "stdout",
     "output_type": "stream",
     "text": [
      "Step 0 — pred: [[0.72343857]], loss: 0.07648622647270668\n",
      "Step 1 — pred: [[0.78102486]], loss: 0.047950113876364206\n",
      "Step 2 — pred: [[0.82829392]], loss: 0.029482978516841542\n",
      "Step 3 — pred: [[0.86647646]], loss: 0.01782853626143483\n",
      "Step 4 — pred: [[0.8968893]], loss: 0.010631816031597286\n",
      "Step 5 — pred: [[0.92082748]], loss: 0.006268288305997771\n",
      "Step 6 — pred: [[0.93948579]], loss: 0.003661969243600826\n",
      "Step 7 — pred: [[0.95391423]], loss: 0.002123897796416666\n",
      "Step 8 — pred: [[0.96500183]], loss: 0.0012248716406458445\n",
      "Step 9 — pred: [[0.97348025]], loss: 0.0007032971297649713\n",
      "Step 10 — pred: [[0.97993871]], loss: 0.00040245541391947516\n",
      "Step 11 — pred: [[0.98484396]], loss: 0.00022970569047320118\n",
      "Step 12 — pred: [[0.98856111]], loss: 0.00013084829133800082\n",
      "Step 13 — pred: [[0.99137307]], loss: 7.44239198115616e-05\n",
      "Step 14 — pred: [[0.99349748]], loss: 4.228271456588433e-05\n",
      "Step 15 — pred: [[0.99510086]], loss: 2.4001547003101746e-05\n",
      "Step 16 — pred: [[0.99631008]], loss: 1.3615482182026741e-05\n",
      "Step 17 — pred: [[0.99722152]], loss: 7.719932521104611e-06\n",
      "Step 18 — pred: [[0.99790822]], loss: 4.375554390085243e-06\n",
      "Step 19 — pred: [[0.99842542]], loss: 2.4793131490847184e-06\n"
     ]
    }
   ],
   "source": [
    "# Dummy input and target\n",
    "x = np.array([[1.0, 2.0, 3.0]])\n",
    "target = np.array([[1.0]])\n",
    "\n",
    "# Create a network: input 3 → hidden layers [4, 4] → output 1\n",
    "net = MLP(input_dim=3, hidden_dims=[4, 4], output_dim=1)\n",
    "loss_fn = MSELoss()\n",
    "# optimizer = Adam(net.parameters(), lr=0.01)\n",
    "optimizer = SGD(net.parameters(), lr=0.01)\n",
    "\n",
    "for step in range(20):\n",
    "    # 1) Zero out all gradients\n",
    "    optimizer.zero_grad()  \n",
    "\n",
    "    # 2) Forward pass\n",
    "    pred = net(x)\n",
    "    loss = loss_fn(pred, target)\n",
    "    \n",
    "    # 3) Print current prediction & loss\n",
    "    print(f\"Step {step} — pred: {pred}, loss: {loss}\")\n",
    "\n",
    "    # 4) Backward pass (compute ∂L/∂W in each layer, stored in .grad)\n",
    "    grad_loss = loss_fn.backward()\n",
    "    net.backward(grad_loss)\n",
    "\n",
    "    # 5) Update parameters\n",
    "    optimizer.step()"
   ]
  },
  {
   "cell_type": "code",
   "execution_count": null,
   "id": "8251bc9e",
   "metadata": {},
   "outputs": [],
   "source": []
  },
  {
   "cell_type": "code",
   "execution_count": null,
   "id": "b33ed4a1",
   "metadata": {},
   "outputs": [],
   "source": []
  }
 ],
 "metadata": {
  "kernelspec": {
   "display_name": "Python 3",
   "language": "python",
   "name": "python3"
  },
  "language_info": {
   "codemirror_mode": {
    "name": "ipython",
    "version": 3
   },
   "file_extension": ".py",
   "mimetype": "text/x-python",
   "name": "python",
   "nbconvert_exporter": "python",
   "pygments_lexer": "ipython3",
   "version": "3.10.16"
  }
 },
 "nbformat": 4,
 "nbformat_minor": 5
}
