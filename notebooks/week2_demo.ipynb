{
 "cells": [
  {
   "cell_type": "code",
   "execution_count": 58,
   "id": "92fbba3e",
   "metadata": {},
   "outputs": [
    {
     "name": "stdout",
     "output_type": "stream",
     "text": [
      "The autoreload extension is already loaded. To reload it, use:\n",
      "  %reload_ext autoreload\n"
     ]
    }
   ],
   "source": [
    "%load_ext autoreload\n",
    "%autoreload 2\n",
    "import sys\n",
    "import os\n",
    "sys.path.append(os.path.abspath(\"..\"))  "
   ]
  },
  {
   "cell_type": "code",
   "execution_count": 59,
   "id": "fb4d771c",
   "metadata": {},
   "outputs": [],
   "source": [
    "import numpy as np\n",
    "\n",
    "from models.MLP.model import MLP\n",
    "from utils.loss.MSELoss import MSELoss\n",
    "from utils.loss.BCELoss import BCELoss\n",
    "from utils.optimizers.SGD import SGD\n",
    "from utils.optimizers.Adam import Adam"
   ]
  },
  {
   "cell_type": "code",
   "execution_count": 72,
   "id": "302b4821",
   "metadata": {},
   "outputs": [
    {
     "name": "stdout",
     "output_type": "stream",
     "text": [
      "Step 0 — pred: [[1.09096374]], loss: 0.00827440160326588\n",
      "Step 1 — pred: [[1.0770202]], loss: 0.005932110488498562\n",
      "Step 2 — pred: [[1.06325652]], loss: 0.004001387753709555\n",
      "Step 3 — pred: [[1.04977698]], loss: 0.0024777473142753408\n",
      "Step 4 — pred: [[1.03671444]], loss: 0.0013479499306883033\n",
      "Step 5 — pred: [[1.02423392]], loss: 0.0005872828335342635\n",
      "Step 6 — pred: [[1.012532]], loss: 0.00015705110531867233\n",
      "Step 7 — pred: [[1.00182879]], loss: 3.3444906198828073e-06\n",
      "Step 8 — pred: [[0.99234958]], loss: 5.8528917951390226e-05\n",
      "Step 9 — pred: [[0.98429699]], loss: 0.00024658467892490257\n",
      "Step 10 — pred: [[0.97782029]], loss: 0.0004919397133732196\n",
      "Step 11 — pred: [[0.97299261]], loss: 0.0007293992532504533\n",
      "Step 12 — pred: [[0.96980429]], loss: 0.0009117809551820699\n",
      "Step 13 — pred: [[0.9681727]], loss: 0.0010129770138910259\n",
      "Step 14 — pred: [[0.96796162]], loss: 0.0010264580270945656\n",
      "Step 15 — pred: [[0.96900177]], loss: 0.0009608900215214957\n",
      "Step 16 — pred: [[0.97110723]], loss: 0.0008347923101073135\n",
      "Step 17 — pred: [[0.97408596]], loss: 0.0006715372825242125\n",
      "Step 18 — pred: [[0.97774564]], loss: 0.0004952563518324391\n",
      "Step 19 — pred: [[0.98189621]], loss: 0.0003277470514078366\n"
     ]
    }
   ],
   "source": [
    "# Dummy input and target\n",
    "x = np.array([[1.0, 2.0, 3.0]])\n",
    "target = np.array([[1.0]])\n",
    "\n",
    "# Create a network: input 3 → hidden layers [4, 4] → output 1\n",
    "net = MLP(input_dim=3, hidden_dims=[4, 4], output_dim=1, activation='relu')\n",
    "loss_fn = MSELoss()\n",
    "optimizer = Adam(net.parameters(), lr=0.001)\n",
    "# optimizer = SGD(net.parameters(), lr=0.001)\n",
    "\n",
    "for step in range(20):\n",
    "    # 1) Zero out all gradients\n",
    "    optimizer.zero_grad()  \n",
    "\n",
    "    # 2) Forward pass\n",
    "    pred = net(x)\n",
    "    loss = loss_fn(pred, target)\n",
    "    \n",
    "    # 3) Print current prediction & loss\n",
    "    print(f\"Step {step} — pred: {pred}, loss: {loss}\")\n",
    "\n",
    "    # 4) Backward pass (compute ∂L/∂W in each layer, stored in .grad)\n",
    "    grad_loss = loss_fn.backward()\n",
    "    net.backward(grad_loss)\n",
    "\n",
    "    # 5) Update parameters\n",
    "    optimizer.step()"
   ]
  },
  {
   "cell_type": "code",
   "execution_count": null,
   "id": "b33ed4a1",
   "metadata": {},
   "outputs": [
    {
     "name": "stdout",
     "output_type": "stream",
     "text": [
      "Step 0 — pred: [[0.44363045]], loss: 0.8127633578290376\n",
      "Step 1 — pred: [[0.4439937]], loss: 0.8119448883576643\n",
      "Step 2 — pred: [[0.44435676]], loss: 0.8111275048323091\n",
      "Step 3 — pred: [[0.44471964]], loss: 0.8103112058631455\n",
      "Step 4 — pred: [[0.44508233]], loss: 0.8094959900611297\n",
      "Step 5 — pred: [[0.44544483]], loss: 0.8086818560380049\n",
      "Step 6 — pred: [[0.44580715]], loss: 0.8078688024063062\n",
      "Step 7 — pred: [[0.44616928]], loss: 0.8070568277793634\n",
      "Step 8 — pred: [[0.44653122]], loss: 0.8062459307713071\n",
      "Step 9 — pred: [[0.44689298]], loss: 0.8054361099970702\n",
      "Step 10 — pred: [[0.44725455]], loss: 0.8046273640723951\n",
      "Step 11 — pred: [[0.44761593]], loss: 0.8038196916138357\n",
      "Step 12 — pred: [[0.44797712]], loss: 0.8030130912387622\n",
      "Step 13 — pred: [[0.44833813]], loss: 0.8022075615653647\n",
      "Step 14 — pred: [[0.44869894]], loss: 0.8014031012126585\n",
      "Step 15 — pred: [[0.44905957]], loss: 0.8005997088004865\n",
      "Step 16 — pred: [[0.44942001]], loss: 0.7997973829495244\n",
      "Step 17 — pred: [[0.44978025]], loss: 0.7989961222812845\n",
      "Step 18 — pred: [[0.45014031]], loss: 0.7981959254181191\n",
      "Step 19 — pred: [[0.45050018]], loss: 0.7973967909832255\n"
     ]
    }
   ],
   "source": [
    "# --- Dummy input and binary target ---\n",
    "x = np.array([[1.0, 2.0, 3.0]])\n",
    "target = np.array([[1.0]])  \n",
    "\n",
    "net = MLP(input_dim=3, hidden_dims=[4, 4], output_dim=1, activation='sigmoid')\n",
    "loss_fn = BCELoss()\n",
    "optimizer = SGD(net.parameters(), lr=0.001)\n",
    "\n",
    "for step in range(20):\n",
    "    # 1) Zero out all gradients\n",
    "    optimizer.zero_grad()\n",
    "\n",
    "    # 2) Forward pass\n",
    "    pred = net(x)\n",
    "    loss = loss_fn(pred, target)\n",
    "\n",
    "    # 3) Print current prediction & loss\n",
    "    print(f\"Step {step} — pred: {pred}, loss: {loss}\")\n",
    "\n",
    "    # 4) Backward pass\n",
    "    grad_loss = loss_fn.backward()\n",
    "    net.backward(grad_loss)\n",
    "\n",
    "    # 5) Update parameters\n",
    "    optimizer.step()"
   ]
  },
  {
   "cell_type": "code",
   "execution_count": null,
   "id": "e4968e59",
   "metadata": {},
   "outputs": [],
   "source": []
  }
 ],
 "metadata": {
  "kernelspec": {
   "display_name": "Python 3",
   "language": "python",
   "name": "python3"
  },
  "language_info": {
   "codemirror_mode": {
    "name": "ipython",
    "version": 3
   },
   "file_extension": ".py",
   "mimetype": "text/x-python",
   "name": "python",
   "nbconvert_exporter": "python",
   "pygments_lexer": "ipython3",
   "version": "3.10.16"
  }
 },
 "nbformat": 4,
 "nbformat_minor": 5
}
