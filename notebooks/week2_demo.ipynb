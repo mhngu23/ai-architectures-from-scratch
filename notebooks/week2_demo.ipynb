{
 "cells": [
  {
   "cell_type": "code",
   "execution_count": 4,
   "id": "92fbba3e",
   "metadata": {},
   "outputs": [
    {
     "name": "stdout",
     "output_type": "stream",
     "text": [
      "The autoreload extension is already loaded. To reload it, use:\n",
      "  %reload_ext autoreload\n"
     ]
    }
   ],
   "source": [
    "%load_ext autoreload\n",
    "%autoreload 2\n",
    "import sys\n",
    "import os\n",
    "sys.path.append(os.path.abspath(\"..\"))  "
   ]
  },
  {
   "cell_type": "code",
   "execution_count": 5,
   "id": "fb4d771c",
   "metadata": {},
   "outputs": [],
   "source": [
    "import numpy as np\n",
    "\n",
    "from models.MLP.model import MLP\n",
    "from utils.loss.MSELoss import MSELoss\n",
    "from utils.optimizers.SGD import SGD\n",
    "from utils.optimizers.Adam import Adam"
   ]
  },
  {
   "cell_type": "code",
   "execution_count": 6,
   "id": "302b4821",
   "metadata": {},
   "outputs": [
    {
     "name": "stdout",
     "output_type": "stream",
     "text": [
      "Step 0 — pred: [[-2.48359425]], loss: 12.135428880612173\n"
     ]
    },
    {
     "ename": "TypeError",
     "evalue": "only length-1 arrays can be converted to Python scalars",
     "output_type": "error",
     "traceback": [
      "\u001b[0;31m---------------------------------------------------------------------------\u001b[0m",
      "\u001b[0;31mTypeError\u001b[0m                                 Traceback (most recent call last)",
      "Cell \u001b[0;32mIn[6], line 26\u001b[0m\n\u001b[1;32m     23\u001b[0m net\u001b[38;5;241m.\u001b[39mbackward(grad_loss)\n\u001b[1;32m     25\u001b[0m \u001b[38;5;66;03m# 5) Update parameters\u001b[39;00m\n\u001b[0;32m---> 26\u001b[0m \u001b[43moptimizer\u001b[49m\u001b[38;5;241;43m.\u001b[39;49m\u001b[43mstep\u001b[49m\u001b[43m(\u001b[49m\u001b[43m)\u001b[49m\n",
      "File \u001b[0;32m~/ai-architectures-from-scratch/utils/optimizers/Adam.py:41\u001b[0m, in \u001b[0;36mAdam.step\u001b[0;34m(self)\u001b[0m\n\u001b[1;32m     39\u001b[0m v_hat \u001b[38;5;241m=\u001b[39m \u001b[38;5;28mself\u001b[39m\u001b[38;5;241m.\u001b[39mv[i] \u001b[38;5;241m/\u001b[39m (\u001b[38;5;241m1\u001b[39m \u001b[38;5;241m-\u001b[39m \u001b[38;5;28mself\u001b[39m\u001b[38;5;241m.\u001b[39mbeta2 \u001b[38;5;241m*\u001b[39m\u001b[38;5;241m*\u001b[39m \u001b[38;5;28mself\u001b[39m\u001b[38;5;241m.\u001b[39mt)\n\u001b[1;32m     40\u001b[0m \u001b[38;5;66;03m# update parameters\u001b[39;00m\n\u001b[0;32m---> 41\u001b[0m p\u001b[38;5;241m.\u001b[39mdata \u001b[38;5;241m=\u001b[39m p\u001b[38;5;241m.\u001b[39mdata \u001b[38;5;241m-\u001b[39m \u001b[38;5;28mself\u001b[39m\u001b[38;5;241m.\u001b[39mlr \u001b[38;5;241m*\u001b[39m m_hat \u001b[38;5;241m/\u001b[39m (\u001b[43mmath\u001b[49m\u001b[38;5;241;43m.\u001b[39;49m\u001b[43msqrt\u001b[49m\u001b[43m(\u001b[49m\u001b[43mv_hat\u001b[49m\u001b[43m)\u001b[49m \u001b[38;5;241m+\u001b[39m \u001b[38;5;28mself\u001b[39m\u001b[38;5;241m.\u001b[39meps)\n",
      "\u001b[0;31mTypeError\u001b[0m: only length-1 arrays can be converted to Python scalars"
     ]
    }
   ],
   "source": [
    "# Dummy input and target\n",
    "x = np.array([[1.0, 2.0, 3.0]])\n",
    "target = np.array([[1.0]])\n",
    "\n",
    "# Create a network: input 3 → hidden layers [4, 4] → output 1\n",
    "net = MLP(input_dim=3, hidden_dims=[4, 4], output_dim=1)\n",
    "loss_fn = MSELoss()\n",
    "optimizer = Adam(net.parameters(), lr=0.01)\n",
    "\n",
    "for step in range(20):\n",
    "    # 1) Zero out all gradients\n",
    "    optimizer.zero_grad()  \n",
    "\n",
    "    # 2) Forward pass\n",
    "    pred = net(x)\n",
    "    loss = loss_fn(pred, target)\n",
    "    \n",
    "    # 3) Print current prediction & loss\n",
    "    print(f\"Step {step} — pred: {pred}, loss: {loss}\")\n",
    "\n",
    "    # 4) Backward pass (compute ∂L/∂W in each layer, stored in .grad)\n",
    "    grad_loss = loss_fn.backward()\n",
    "    net.backward(grad_loss)\n",
    "\n",
    "    # 5) Update parameters\n",
    "    optimizer.step()"
   ]
  },
  {
   "cell_type": "code",
   "execution_count": null,
   "id": "8251bc9e",
   "metadata": {},
   "outputs": [],
   "source": []
  },
  {
   "cell_type": "code",
   "execution_count": null,
   "id": "b33ed4a1",
   "metadata": {},
   "outputs": [],
   "source": []
  }
 ],
 "metadata": {
  "kernelspec": {
   "display_name": "Python 3",
   "language": "python",
   "name": "python3"
  },
  "language_info": {
   "codemirror_mode": {
    "name": "ipython",
    "version": 3
   },
   "file_extension": ".py",
   "mimetype": "text/x-python",
   "name": "python",
   "nbconvert_exporter": "python",
   "pygments_lexer": "ipython3",
   "version": "3.10.16"
  }
 },
 "nbformat": 4,
 "nbformat_minor": 5
}
